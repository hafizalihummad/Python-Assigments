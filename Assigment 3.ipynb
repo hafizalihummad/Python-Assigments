{
 "cells": [
  {
   "cell_type": "code",
   "execution_count": 5,
   "metadata": {},
   "outputs": [
    {
     "name": "stdout",
     "output_type": "stream",
     "text": [
      "Enter First Number 3\n",
      "Enter Operator *\n",
      "Enter Second Number4\n",
      "12\n"
     ]
    }
   ],
   "source": [
    "#Assigment 3\n",
    "'''Q1 Make a calculator using Python with addition , subtraction , multiplication \n",
    "division and power.'''\n",
    "\n",
    "num1=int(input(\"Enter First Number \"))\n",
    "op=input(\"Enter Operator \")\n",
    "num2=int(input(\"Enter Second Number \"))\n",
    "if op=='+':\n",
    "    print(num1+num2)\n",
    "elif op=='-':\n",
    "    print(num1-num2)\n",
    "elif op=='*':\n",
    "    print(num1*num2)\n",
    "elif op=='/':\n",
    "    print(num1/num2)\n",
    "elif op=='^':\n",
    "    print(pow(num1,num2))\n",
    "else:\n",
    "    print(\"invalid input\")\n"
   ]
  },
  {
   "cell_type": "code",
   "execution_count": 31,
   "metadata": {},
   "outputs": [
    {
     "name": "stdout",
     "output_type": "stream",
     "text": [
      "Numeric value exists\n"
     ]
    }
   ],
   "source": [
    "#Q2. Write a program to check if there is any numeric value in list using for loop\n",
    "list=[4,3,\"Ali\",\"Karachi\"]\n",
    "count=0\n",
    "for x in list:\n",
    "    if x>=1 and x<=3:\n",
    "        count+=1\n",
    "        break\n",
    "if count>=1:\n",
    "    print(\"Numeric value exists\")\n",
    "else:\n",
    "    print(\"Numeric value does not exists\")\n",
    "    \n",
    "    \n"
   ]
  },
  {
   "cell_type": "code",
   "execution_count": 36,
   "metadata": {},
   "outputs": [
    {
     "name": "stdout",
     "output_type": "stream",
     "text": [
      "{'Name': 'Ali', 'Age': '20', 'Department': 'Computer Science'}\n"
     ]
    }
   ],
   "source": [
    "#Q3. Write a Python script to add a key to a dictionary\n",
    "student={ \"Name\":\"Ali\",\"Age\":\"20\"}\n",
    "student[\"Department\"]=\"Computer Science\"\n",
    "print(student)"
   ]
  },
  {
   "cell_type": "code",
   "execution_count": 41,
   "metadata": {},
   "outputs": [
    {
     "name": "stdout",
     "output_type": "stream",
     "text": [
      "21\n"
     ]
    }
   ],
   "source": [
    "#Q4. Write a Python program to sum all the numeric items in a dictionary\n",
    "num={1:2,3:4,5:6}\n",
    "sum=0\n",
    "for x,y in num.items():\n",
    "    sum+=x+y\n",
    "print(sum)"
   ]
  },
  {
   "cell_type": "code",
   "execution_count": 102,
   "metadata": {},
   "outputs": [
    {
     "data": {
      "text/plain": [
       "[2, 4, 8]"
      ]
     },
     "execution_count": 102,
     "metadata": {},
     "output_type": "execute_result"
    }
   ],
   "source": [
    "#Q5. Write a program to identify duplicate values from list\n",
    "from collections import Counter\n",
    "list = [2,4,8,4,6,2,8,9]\n",
    "[k for k,v in Counter(list).items() if v>1]\n",
    "  "
   ]
  },
  {
   "cell_type": "code",
   "execution_count": 108,
   "metadata": {},
   "outputs": [
    {
     "name": "stdout",
     "output_type": "stream",
     "text": [
      "Enter for search key Age\n",
      "Key already exists\n"
     ]
    }
   ],
   "source": [
    "#Q6. Write a Python script to check if a given key already exists in a dictionary\n",
    "\n",
    "Student={\n",
    "    \"First Name\":\"Hafiz Ali\",\n",
    "    \"Last Name\":\"Ansari\",\n",
    "    \"Age\":\"20\",\n",
    "    \"Dept\":\"BSCS\",\n",
    "}\n",
    "check=input(\"Enter for search key \")\n",
    "for x in Student.keys():\n",
    "    if check==x:\n",
    "        print(\"Key already exists\")\n",
    "    \n"
   ]
  },
  {
   "cell_type": "code",
   "execution_count": null,
   "metadata": {},
   "outputs": [],
   "source": []
  },
  {
   "cell_type": "code",
   "execution_count": null,
   "metadata": {},
   "outputs": [],
   "source": []
  }
 ],
 "metadata": {
  "kernelspec": {
   "display_name": "Python 3",
   "language": "python",
   "name": "python3"
  },
  "language_info": {
   "codemirror_mode": {
    "name": "ipython",
    "version": 3
   },
   "file_extension": ".py",
   "mimetype": "text/x-python",
   "name": "python",
   "nbconvert_exporter": "python",
   "pygments_lexer": "ipython3",
   "version": "3.7.3"
  }
 },
 "nbformat": 4,
 "nbformat_minor": 2
}
