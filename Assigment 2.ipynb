{
 "cells": [
  {
   "cell_type": "code",
   "execution_count": 4,
   "metadata": {},
   "outputs": [
    {
     "name": "stdout",
     "output_type": "stream",
     "text": [
      "Enter Marks of Maths : 80\n",
      "Enter Marks of Physics : 75\n",
      "Enter Marks of Chemistry : 60\n",
      "Enter Marks of English : 80\n",
      "Enter Marks of Comp Science : 90\n",
      "Obtained Marks are : 385.0\n",
      "Percentage is : 77.0\n",
      "Grade is A\n"
     ]
    }
   ],
   "source": [
    "#ASSIGMENT 2\n",
    "#ANS 01\n",
    "sub1=float(input(\"Enter Marks of Maths : \"))\n",
    "sub2=float(input(\"Enter Marks of Physics : \"))\n",
    "sub3=float(input(\"Enter Marks of Chemistry : \"))\n",
    "sub4=float(input(\"Enter Marks of English : \"))\n",
    "sub5=float(input(\"Enter Marks of Comp Science : \"))\n",
    "obt=sub1+sub2+sub3+sub4+sub5\n",
    "print(\"Obtained Marks are : %s\"%obt)\n",
    "per=(obt/500)*100\n",
    "print(\"Percentage is : %s\"%per)\n",
    "if per>=80 and per<=100:\n",
    "    print(\"Grade is A+\")\n",
    "elif per>=70 and per<80:\n",
    "    print(\"Grade is A\")\n",
    "elif per>=60 and per<70:\n",
    "    print(\"Grade is B\")\n",
    "elif per>=50 and per<60:\n",
    "    print(\"Grade is C\")\n",
    "elif per>=1 and per<50:\n",
    "    print(\"Fail\")\n",
    "else:\n",
    "    print(\"Invalid input\")\n"
   ]
  },
  {
   "cell_type": "code",
   "execution_count": 6,
   "metadata": {},
   "outputs": [
    {
     "name": "stdout",
     "output_type": "stream",
     "text": [
      "Enter No : 366\n",
      "366 is Even Number \n"
     ]
    }
   ],
   "source": [
    "# ANS 02\n",
    "num=int(input(\"Enter No : \"))\n",
    "if num%2==0:\n",
    "    print(\"%s is Even Number \"%num)\n",
    "elif num%2==1:\n",
    "    print(\"%s is Odd Number \"%num)"
   ]
  },
  {
   "cell_type": "code",
   "execution_count": 17,
   "metadata": {},
   "outputs": [
    {
     "name": "stdout",
     "output_type": "stream",
     "text": [
      "9\n"
     ]
    }
   ],
   "source": [
    "#ANS 03\n",
    "list=[1,2,3,4,5,8,10,15,'Ali']\n",
    "print(len(list))"
   ]
  },
  {
   "cell_type": "code",
   "execution_count": 19,
   "metadata": {},
   "outputs": [
    {
     "name": "stdout",
     "output_type": "stream",
     "text": [
      "70\n"
     ]
    }
   ],
   "source": [
    "#ANS 04\n",
    "list=[1,2,5,9,15,18,20]\n",
    "print(sum(list))"
   ]
  },
  {
   "cell_type": "code",
   "execution_count": 23,
   "metadata": {},
   "outputs": [
    {
     "name": "stdout",
     "output_type": "stream",
     "text": [
      "Greater Number is 11\n"
     ]
    }
   ],
   "source": [
    "#ANS 05\n",
    "list=[5,3,9,8,11]\n",
    "max=list[0]\n",
    "for a in list:\n",
    "    if a>max:\n",
    "        max=a\n",
    "print(\"Greater Number is\",max)"
   ]
  },
  {
   "cell_type": "code",
   "execution_count": 33,
   "metadata": {},
   "outputs": [
    {
     "name": "stdout",
     "output_type": "stream",
     "text": [
      "1\n",
      "4\n",
      "4\n",
      "2\n",
      "1\n"
     ]
    }
   ],
   "source": [
    "# ANS 06\n",
    "list=[1,4,5,8,15,20,7,4,2,9,1,9]\n",
    "list2=[]\n",
    "for a in list:\n",
    "    if a<5:\n",
    "        print(a)"
   ]
  },
  {
   "cell_type": "code",
   "execution_count": null,
   "metadata": {},
   "outputs": [],
   "source": []
  }
 ],
 "metadata": {
  "kernelspec": {
   "display_name": "Python 3",
   "language": "python",
   "name": "python3"
  },
  "language_info": {
   "codemirror_mode": {
    "name": "ipython",
    "version": 3
   },
   "file_extension": ".py",
   "mimetype": "text/x-python",
   "name": "python",
   "nbconvert_exporter": "python",
   "pygments_lexer": "ipython3",
   "version": "3.7.3"
  }
 },
 "nbformat": 4,
 "nbformat_minor": 2
}
